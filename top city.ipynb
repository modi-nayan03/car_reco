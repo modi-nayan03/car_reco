{
 "cells": [
  {
   "cell_type": "code",
   "execution_count": 2,
   "id": "76876c71-3b21-4c1d-af02-ebf348f8e8bd",
   "metadata": {},
   "outputs": [],
   "source": [
    "import pandas as pd"
   ]
  },
  {
   "cell_type": "code",
   "execution_count": 10,
   "id": "e6717b5c-8f5e-4823-95bc-800ff95abd78",
   "metadata": {
    "scrolled": true
   },
   "outputs": [
    {
     "name": "stdout",
     "output_type": "stream",
     "text": [
      "<class 'pandas.core.frame.DataFrame'>\n",
      "RangeIndex: 22 entries, 0 to 21\n",
      "Data columns (total 24 columns):\n",
      " #   Column                 Non-Null Count  Dtype \n",
      "---  ------                 --------------  ----- \n",
      " 0   _id                    22 non-null     object\n",
      " 1   userId                 22 non-null     object\n",
      " 2   CarRegistrationNumber  22 non-null     object\n",
      " 3   carBrand               22 non-null     object\n",
      " 4   carModel               22 non-null     object\n",
      " 5   yearOfRegistration     22 non-null     int64 \n",
      " 6   city                   22 non-null     object\n",
      " 7   kmDriven               22 non-null     object\n",
      " 8   chassisNumber          22 non-null     object\n",
      " 9   fuelType               22 non-null     object\n",
      " 10  transmissionType       22 non-null     object\n",
      " 11  pricePerHour           22 non-null     int64 \n",
      " 12  pickupLocation         22 non-null     object\n",
      " 13  seatingCapacity        22 non-null     int64 \n",
      " 14  bodyType               22 non-null     object\n",
      " 15  startDate              22 non-null     object\n",
      " 16  startTime              22 non-null     object\n",
      " 17  endDate                22 non-null     object\n",
      " 18  endTime                22 non-null     object\n",
      " 19  coverImageBytes        22 non-null     object\n",
      " 20  exteriorImageBytes     22 non-null     object\n",
      " 21  interiorImageBytes     22 non-null     object\n",
      " 22  created_at             22 non-null     object\n",
      " 23  is_available           22 non-null     bool  \n",
      "dtypes: bool(1), int64(3), object(20)\n",
      "memory usage: 4.1+ KB\n"
     ]
    }
   ],
   "source": [
    "\n",
    "file_path = \"urban_drive.cars.csv\"\n",
    "df = pd.read_csv(file_path)\n",
    "\n",
    "# Display basic information and the first few rows\n",
    "df.info(), df.head()"
   ]
  },
  {
   "cell_type": "code",
   "execution_count": 12,
   "id": "c6aa8ed2-beae-4943-9ae9-6ab5ae1f4f71",
   "metadata": {},
   "outputs": [
    {
     "data": {
      "text/html": [
       "<div>\n",
       "<style scoped>\n",
       "    .dataframe tbody tr th:only-of-type {\n",
       "        vertical-align: middle;\n",
       "    }\n",
       "\n",
       "    .dataframe tbody tr th {\n",
       "        vertical-align: top;\n",
       "    }\n",
       "\n",
       "    .dataframe thead th {\n",
       "        text-align: right;\n",
       "    }\n",
       "</style>\n",
       "<table border=\"1\" class=\"dataframe\">\n",
       "  <thead>\n",
       "    <tr style=\"text-align: right;\">\n",
       "      <th></th>\n",
       "      <th>_id</th>\n",
       "      <th>userId</th>\n",
       "      <th>CarRegistrationNumber</th>\n",
       "      <th>carBrand</th>\n",
       "      <th>carModel</th>\n",
       "      <th>yearOfRegistration</th>\n",
       "      <th>city</th>\n",
       "      <th>kmDriven</th>\n",
       "      <th>chassisNumber</th>\n",
       "      <th>fuelType</th>\n",
       "      <th>...</th>\n",
       "      <th>bodyType</th>\n",
       "      <th>startDate</th>\n",
       "      <th>startTime</th>\n",
       "      <th>endDate</th>\n",
       "      <th>endTime</th>\n",
       "      <th>coverImageBytes</th>\n",
       "      <th>exteriorImageBytes</th>\n",
       "      <th>interiorImageBytes</th>\n",
       "      <th>created_at</th>\n",
       "      <th>is_available</th>\n",
       "    </tr>\n",
       "  </thead>\n",
       "  <tbody>\n",
       "    <tr>\n",
       "      <th>0</th>\n",
       "      <td>67a44e5c0bf8529e3b398e3e</td>\n",
       "      <td>67a44d3b0bf8529e3b398e3d</td>\n",
       "      <td>GJ33AB1234</td>\n",
       "      <td>HUNDAI</td>\n",
       "      <td>I20</td>\n",
       "      <td>2024</td>\n",
       "      <td>BOTAD</td>\n",
       "      <td>40-60k</td>\n",
       "      <td>45F8AF5A6F165A6A5</td>\n",
       "      <td>Petrol</td>\n",
       "      <td>...</td>\n",
       "      <td>Wagon</td>\n",
       "      <td>2025-03-01T00:00:00.000</td>\n",
       "      <td>2:00 PM</td>\n",
       "      <td>2025-03-20T00:00:00.000</td>\n",
       "      <td>8:00 AM</td>\n",
       "      <td>/9j/4AAQSkZJRgABAQAAAQABAAD//gA7Q1JFQVRPUjogZ2...</td>\n",
       "      <td>/9j/4AAQSkZJRgABAQAAAQABAAD/4gIoSUNDX1BST0ZJTE...</td>\n",
       "      <td>/9j/2wBDAAYEBQYFBAYGBQYHBwYIChAKCgkJChQODwwQFx...</td>\n",
       "      <td>2025-02-06T11:23:32.663Z</td>\n",
       "      <td>True</td>\n",
       "    </tr>\n",
       "    <tr>\n",
       "      <th>1</th>\n",
       "      <td>67a720087dc645ca9a17c76f</td>\n",
       "      <td>67a44d3b0bf8529e3b398e3d</td>\n",
       "      <td>GJ05DF4545</td>\n",
       "      <td>TOYOTA</td>\n",
       "      <td>ENOVA</td>\n",
       "      <td>2020</td>\n",
       "      <td>SURAT</td>\n",
       "      <td>&gt;60k</td>\n",
       "      <td>50466456454646464</td>\n",
       "      <td>CNG</td>\n",
       "      <td>...</td>\n",
       "      <td>SUV</td>\n",
       "      <td>2025-02-28T00:00:00.000</td>\n",
       "      <td>12:00 AM</td>\n",
       "      <td>2025-03-28T00:00:00.000</td>\n",
       "      <td>12:00 AM</td>\n",
       "      <td>/9j/4AAQSkZJRgABAQEBLAEsAAD/7SrmUGhvdG9zaG9wID...</td>\n",
       "      <td>/9j/4AAQSkZJRgABAQEBLAEsAAD/7TCcUGhvdG9zaG9wID...</td>\n",
       "      <td>/9j/4AAQSkZJRgABAQEBLAEsAAD/7TGsUGhvdG9zaG9wID...</td>\n",
       "      <td>2025-02-08T14:42:40.098Z</td>\n",
       "      <td>True</td>\n",
       "    </tr>\n",
       "    <tr>\n",
       "      <th>2</th>\n",
       "      <td>67a721a17dc645ca9a17c771</td>\n",
       "      <td>67a44d3b0bf8529e3b398e3d</td>\n",
       "      <td>GJ02DS1232</td>\n",
       "      <td>KIA</td>\n",
       "      <td>SELTOS</td>\n",
       "      <td>2022</td>\n",
       "      <td>BOTAD</td>\n",
       "      <td>&gt;60k</td>\n",
       "      <td>JASDFS35D6F5SDFSD</td>\n",
       "      <td>EV</td>\n",
       "      <td>...</td>\n",
       "      <td>SUV</td>\n",
       "      <td>2025-03-10T00:00:00.000</td>\n",
       "      <td>12:00 AM</td>\n",
       "      <td>2025-03-31T00:00:00.000</td>\n",
       "      <td>2:00 AM</td>\n",
       "      <td>/9j/4AAQSkZJRgABAQEBLAEsAAD/7R3eUGhvdG9zaG9wID...</td>\n",
       "      <td>/9j/4AAQSkZJRgABAQEBLAEsAAD/7R8QUGhvdG9zaG9wID...</td>\n",
       "      <td>/9j/4AAQSkZJRgABAQEBLAEsAAD/7QCUUGhvdG9zaG9wID...</td>\n",
       "      <td>2025-02-08T14:49:29.683Z</td>\n",
       "      <td>True</td>\n",
       "    </tr>\n",
       "    <tr>\n",
       "      <th>3</th>\n",
       "      <td>67a722187dc645ca9a17c772</td>\n",
       "      <td>67a44d3b0bf8529e3b398e3d</td>\n",
       "      <td>GJ02AS6398</td>\n",
       "      <td>TATA</td>\n",
       "      <td>NEXON</td>\n",
       "      <td>2023</td>\n",
       "      <td>SURAT</td>\n",
       "      <td>40-60k</td>\n",
       "      <td>54F54545S45FSD45F</td>\n",
       "      <td>EV</td>\n",
       "      <td>...</td>\n",
       "      <td>Hatchback</td>\n",
       "      <td>2025-03-15T00:00:00.000</td>\n",
       "      <td>2:00 PM</td>\n",
       "      <td>2025-04-10T00:00:00.000</td>\n",
       "      <td>8:00 AM</td>\n",
       "      <td>/9j/4AAQSkZJRgABAQAAAQABAAD/4gxYSUNDX1BST0ZJTE...</td>\n",
       "      <td>/9j/4AAQSkZJRgABAQEBLAEsAAD/7QCUUGhvdG9zaG9wID...</td>\n",
       "      <td>/9j/4AAQSkZJRgABAQEBLAEsAAD/7R2GUGhvdG9zaG9wID...</td>\n",
       "      <td>2025-02-08T14:51:28.977Z</td>\n",
       "      <td>True</td>\n",
       "    </tr>\n",
       "    <tr>\n",
       "      <th>4</th>\n",
       "      <td>67a725c87dc645ca9a17c776</td>\n",
       "      <td>67a44ea30bf8529e3b398e3f</td>\n",
       "      <td>GJ12SA2055</td>\n",
       "      <td>BMW</td>\n",
       "      <td>IX1</td>\n",
       "      <td>2018</td>\n",
       "      <td>GANDHINAGAR</td>\n",
       "      <td>&gt;60k</td>\n",
       "      <td>D45FD5F5SD5FDFD55</td>\n",
       "      <td>Petrol</td>\n",
       "      <td>...</td>\n",
       "      <td>Wagon</td>\n",
       "      <td>2025-02-27T00:00:00.000</td>\n",
       "      <td>8:00 PM</td>\n",
       "      <td>2025-03-07T00:00:00.000</td>\n",
       "      <td>8:00 PM</td>\n",
       "      <td>/9j/4AAQSkZJRgABAQEBLAEsAAD/7RwEUGhvdG9zaG9wID...</td>\n",
       "      <td>/9j/4AAQSkZJRgABAQEBLAEsAAD/7RsMUGhvdG9zaG9wID...</td>\n",
       "      <td>/9j/4AAQSkZJRgABAQEBLAEsAAD/7QCUUGhvdG9zaG9wID...</td>\n",
       "      <td>2025-02-08T15:07:12.855Z</td>\n",
       "      <td>False</td>\n",
       "    </tr>\n",
       "  </tbody>\n",
       "</table>\n",
       "<p>5 rows × 24 columns</p>\n",
       "</div>"
      ],
      "text/plain": [
       "                        _id                    userId CarRegistrationNumber  \\\n",
       "0  67a44e5c0bf8529e3b398e3e  67a44d3b0bf8529e3b398e3d            GJ33AB1234   \n",
       "1  67a720087dc645ca9a17c76f  67a44d3b0bf8529e3b398e3d            GJ05DF4545   \n",
       "2  67a721a17dc645ca9a17c771  67a44d3b0bf8529e3b398e3d            GJ02DS1232   \n",
       "3  67a722187dc645ca9a17c772  67a44d3b0bf8529e3b398e3d            GJ02AS6398   \n",
       "4  67a725c87dc645ca9a17c776  67a44ea30bf8529e3b398e3f            GJ12SA2055   \n",
       "\n",
       "  carBrand carModel  yearOfRegistration         city kmDriven  \\\n",
       "0   HUNDAI      I20                2024        BOTAD   40-60k   \n",
       "1   TOYOTA    ENOVA                2020        SURAT     >60k   \n",
       "2      KIA   SELTOS                2022        BOTAD     >60k   \n",
       "3     TATA    NEXON                2023        SURAT   40-60k   \n",
       "4      BMW      IX1                2018  GANDHINAGAR     >60k   \n",
       "\n",
       "       chassisNumber fuelType  ...   bodyType                startDate  \\\n",
       "0  45F8AF5A6F165A6A5   Petrol  ...      Wagon  2025-03-01T00:00:00.000   \n",
       "1  50466456454646464      CNG  ...        SUV  2025-02-28T00:00:00.000   \n",
       "2  JASDFS35D6F5SDFSD       EV  ...        SUV  2025-03-10T00:00:00.000   \n",
       "3  54F54545S45FSD45F       EV  ...  Hatchback  2025-03-15T00:00:00.000   \n",
       "4  D45FD5F5SD5FDFD55   Petrol  ...      Wagon  2025-02-27T00:00:00.000   \n",
       "\n",
       "  startTime                  endDate   endTime  \\\n",
       "0   2:00 PM  2025-03-20T00:00:00.000   8:00 AM   \n",
       "1  12:00 AM  2025-03-28T00:00:00.000  12:00 AM   \n",
       "2  12:00 AM  2025-03-31T00:00:00.000   2:00 AM   \n",
       "3   2:00 PM  2025-04-10T00:00:00.000   8:00 AM   \n",
       "4   8:00 PM  2025-03-07T00:00:00.000   8:00 PM   \n",
       "\n",
       "                                     coverImageBytes  \\\n",
       "0  /9j/4AAQSkZJRgABAQAAAQABAAD//gA7Q1JFQVRPUjogZ2...   \n",
       "1  /9j/4AAQSkZJRgABAQEBLAEsAAD/7SrmUGhvdG9zaG9wID...   \n",
       "2  /9j/4AAQSkZJRgABAQEBLAEsAAD/7R3eUGhvdG9zaG9wID...   \n",
       "3  /9j/4AAQSkZJRgABAQAAAQABAAD/4gxYSUNDX1BST0ZJTE...   \n",
       "4  /9j/4AAQSkZJRgABAQEBLAEsAAD/7RwEUGhvdG9zaG9wID...   \n",
       "\n",
       "                                  exteriorImageBytes  \\\n",
       "0  /9j/4AAQSkZJRgABAQAAAQABAAD/4gIoSUNDX1BST0ZJTE...   \n",
       "1  /9j/4AAQSkZJRgABAQEBLAEsAAD/7TCcUGhvdG9zaG9wID...   \n",
       "2  /9j/4AAQSkZJRgABAQEBLAEsAAD/7R8QUGhvdG9zaG9wID...   \n",
       "3  /9j/4AAQSkZJRgABAQEBLAEsAAD/7QCUUGhvdG9zaG9wID...   \n",
       "4  /9j/4AAQSkZJRgABAQEBLAEsAAD/7RsMUGhvdG9zaG9wID...   \n",
       "\n",
       "                                  interiorImageBytes  \\\n",
       "0  /9j/2wBDAAYEBQYFBAYGBQYHBwYIChAKCgkJChQODwwQFx...   \n",
       "1  /9j/4AAQSkZJRgABAQEBLAEsAAD/7TGsUGhvdG9zaG9wID...   \n",
       "2  /9j/4AAQSkZJRgABAQEBLAEsAAD/7QCUUGhvdG9zaG9wID...   \n",
       "3  /9j/4AAQSkZJRgABAQEBLAEsAAD/7R2GUGhvdG9zaG9wID...   \n",
       "4  /9j/4AAQSkZJRgABAQEBLAEsAAD/7QCUUGhvdG9zaG9wID...   \n",
       "\n",
       "                 created_at is_available  \n",
       "0  2025-02-06T11:23:32.663Z         True  \n",
       "1  2025-02-08T14:42:40.098Z         True  \n",
       "2  2025-02-08T14:49:29.683Z         True  \n",
       "3  2025-02-08T14:51:28.977Z         True  \n",
       "4  2025-02-08T15:07:12.855Z        False  \n",
       "\n",
       "[5 rows x 24 columns]"
      ]
     },
     "execution_count": 12,
     "metadata": {},
     "output_type": "execute_result"
    }
   ],
   "source": [
    "df.head()"
   ]
  },
  {
   "cell_type": "code",
   "execution_count": 61,
   "id": "daf3656a-3d96-4175-8a78-6e3886f03318",
   "metadata": {},
   "outputs": [
    {
     "data": {
      "text/plain": [
       "city\n",
       "BOTAD          4\n",
       "SURAT          4\n",
       "RAJKOT         3\n",
       "GANDHINAGAR    2\n",
       "UDAIPUR        2\n",
       "Name: count, dtype: int64"
      ]
     },
     "execution_count": 61,
     "metadata": {},
     "output_type": "execute_result"
    }
   ],
   "source": [
    "top_5_cities = df[\"city\"].value_counts().head(5)\n",
    "top_5_cities "
   ]
  },
  {
   "cell_type": "code",
   "execution_count": 51,
   "id": "4c206876-9a8c-426e-a857-1541b665ed2d",
   "metadata": {},
   "outputs": [
    {
     "data": {
      "text/plain": [
       "0          BOTAD\n",
       "1          SURAT\n",
       "2          BOTAD\n",
       "3          SURAT\n",
       "4    GANDHINAGAR\n",
       "Name: city, dtype: object"
      ]
     },
     "execution_count": 51,
     "metadata": {},
     "output_type": "execute_result"
    }
   ],
   "source": [
    "df[\"city\"].head()"
   ]
  },
  {
   "cell_type": "code",
   "execution_count": 53,
   "id": "24a968ff-c689-4453-ac45-04495a121085",
   "metadata": {},
   "outputs": [],
   "source": [
    "top_car = df.groupby([\"carBrand\", \"carModel\"]).size().idxmax()"
   ]
  },
  {
   "cell_type": "code",
   "execution_count": 55,
   "id": "d8ebf762-1f1c-458c-be37-647a968a7bf6",
   "metadata": {},
   "outputs": [
    {
     "data": {
      "text/plain": [
       "('BMW', 'IX1')"
      ]
     },
     "execution_count": 55,
     "metadata": {},
     "output_type": "execute_result"
    }
   ],
   "source": [
    "top_car"
   ]
  },
  {
   "cell_type": "code",
   "execution_count": 59,
   "id": "04fa4a44-1588-4df3-aea7-4457962fb1ee",
   "metadata": {},
   "outputs": [
    {
     "data": {
      "text/plain": [
       "carBrand  carModel\n",
       "BMW       IX1         2\n",
       "AUDI      A6          1\n",
       "          A7          1\n",
       "          Q5          1\n",
       "BMW       X7          1\n",
       "dtype: int64"
      ]
     },
     "execution_count": 59,
     "metadata": {},
     "output_type": "execute_result"
    }
   ],
   "source": [
    "top_5_cars = df.groupby([\"carBrand\", \"carModel\"]).size().nlargest(5)\n",
    "top_5_cars\n"
   ]
  },
  {
   "cell_type": "code",
   "execution_count": 64,
   "id": "3fc0ea26-df10-4ffb-912e-3fcfdd29b11b",
   "metadata": {},
   "outputs": [
    {
     "name": "stdout",
     "output_type": "stream",
     "text": [
      "C:\\Users\\Nayan\n"
     ]
    }
   ],
   "source": [
    "cd"
   ]
  },
  {
   "cell_type": "code",
   "execution_count": null,
   "id": "767ccf8f-970f-4bda-b9f4-a18578f62b8d",
   "metadata": {},
   "outputs": [],
   "source": []
  }
 ],
 "metadata": {
  "kernelspec": {
   "display_name": "Python 3 (ipykernel)",
   "language": "python",
   "name": "python3"
  },
  "language_info": {
   "codemirror_mode": {
    "name": "ipython",
    "version": 3
   },
   "file_extension": ".py",
   "mimetype": "text/x-python",
   "name": "python",
   "nbconvert_exporter": "python",
   "pygments_lexer": "ipython3",
   "version": "3.12.3"
  }
 },
 "nbformat": 4,
 "nbformat_minor": 5
}
